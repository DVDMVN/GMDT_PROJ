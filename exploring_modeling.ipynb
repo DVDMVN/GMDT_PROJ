{
 "cells": [
  {
   "cell_type": "markdown",
   "metadata": {},
   "source": [
    "# Rational\n",
    "\n",
    "The primary objective of this machine learning solution is to predict the estimated success "
   ]
  },
  {
   "cell_type": "markdown",
   "metadata": {},
   "source": [
    "# Loading"
   ]
  },
  {
   "cell_type": "code",
   "execution_count": 1,
   "metadata": {},
   "outputs": [
    {
     "name": "stderr",
     "output_type": "stream",
     "text": [
      "2024-12-04 11:58:21.146 WARNING streamlit.runtime.caching.cache_data_api: No runtime found, using MemoryCacheStorageManager\n",
      "2024-12-04 11:58:21.149 WARNING streamlit.runtime.caching.cache_data_api: No runtime found, using MemoryCacheStorageManager\n",
      "2024-12-04 11:58:21.150 WARNING streamlit.runtime.caching.cache_data_api: No runtime found, using MemoryCacheStorageManager\n",
      "2024-12-04 11:58:21.151 WARNING streamlit.runtime.caching.cache_data_api: No runtime found, using MemoryCacheStorageManager\n",
      "2024-12-04 11:58:22.057 \n",
      "  \u001b[33m\u001b[1mWarning:\u001b[0m to view this Streamlit app on a browser, run it with the following\n",
      "  command:\n",
      "\n",
      "    streamlit run c:\\HW\\Fall_2024_MSU\\CMSE830\\Homework\\conman\\Lib\\site-packages\\ipykernel_launcher.py [ARGUMENTS]\n",
      "2024-12-04 11:58:22.059 No runtime found, using MemoryCacheStorageManager\n"
     ]
    }
   ],
   "source": [
    "import numpy as np\n",
    "import pandas as pd\n",
    "import matplotlib.pyplot as plt\n",
    "import seaborn as sns\n",
    "from utils import load_top_1500_steam\n",
    "\n",
    "import calendar\n",
    "\n",
    "top_1500_steam = load_top_1500_steam()\n",
    "plt.style.use('ggplot')\n",
    "\n",
    "def perform_feature_engineering():\n",
    "    # Exploring price_category vs revenue and price vs copies sold\n",
    "    bins = [-1, 0, 10, 50, float('inf')]  # -1 to include 0 in the first bin\n",
    "    labels = ['Free to Play', 'Under $10', '$10-50', 'Over $50']\n",
    "    top_1500_steam['price_category'] = pd.cut(top_1500_steam['price'], bins=bins, labels=labels)\n",
    "\n",
    "    top_1500_steam['release_date'] = pd.to_datetime(top_1500_steam['release_date'], format='%Y-%m-%d')\n",
    "    top_1500_steam['release_month'] = top_1500_steam['release_date'].dt.month_name()\n",
    "    month_order = list(calendar.month_name[1:])\n",
    "    top_1500_steam['release_month'] = pd.Categorical(top_1500_steam['release_month'], categories=month_order, ordered=True)\n",
    "\n",
    "    bins = [-1, 10, 20, 40, 50, 70, 80, 95, float('inf')] # Based on how steam categorizes\n",
    "    labels = ['Overwhelmingly Negative', 'Negative', 'Mostly Negative', 'Mixed', 'Mostly Positive', 'Positive', 'Very Positive', 'Overwhelmingly Positive']\n",
    "    top_1500_steam['review_score_category'] = pd.cut(top_1500_steam['review_score'], bins=bins, labels=labels)\n",
    "perform_feature_engineering()"
   ]
  },
  {
   "cell_type": "code",
   "execution_count": null,
   "metadata": {},
   "outputs": [
    {
     "name": "stderr",
     "output_type": "stream",
     "text": [
      "c:\\HW\\Fall_2024_MSU\\CMSE830\\Project\\utils.py:40: DtypeWarning: Columns (19) have mixed types. Specify dtype option on import or set low_memory=False.\n",
      "  return pd.read_csv(\"data/all_55000_steam.csv\")\n"
     ]
    }
   ],
   "source": [
    "import pandas as pd\n",
    "import matplotlib.pyplot as plt\n",
    "import seaborn as sns\n",
    "import re\n",
    "\n",
    "from sklearn.preprocessing import MultiLabelBinarizer\n",
    "from sklearn.linear_model import LinearRegression\n",
    "\n",
    "from utils import load_all_55000_steam\n",
    "\n",
    "all_55000_steam = load_all_55000_steam()\n",
    "plt.style.use('ggplot')\n",
    "\n",
    "def perform_feature_engineering(all_55000_steam) -> pd.DataFrame:\n",
    "    # Categorizing Price\n",
    "    bins = [-1, 0, 10, 50, float('inf')]  # -1 to include 0 in the first bin\n",
    "    labels = ['Free to Play', 'Under $10', '$10-50', 'Over $50']\n",
    "    all_55000_steam['price_category'] = pd.cut(all_55000_steam['price'], bins=bins, labels=labels)\n",
    "\n",
    "    # Creating a total review counts feature\n",
    "    all_55000_steam['total_review_count'] = all_55000_steam['positive_reviews'] + all_55000_steam['negative_reviews']\n",
    "    all_55000_steam['positive_ratio'] = all_55000_steam['positive_reviews'] / all_55000_steam['total_review_count']\n",
    "\n",
    "    # Categorizing total review counts\n",
    "    bins = [-1, 7, 15, 30, 60, 125, 250, 500, 1000, 2000, float('inf')]\n",
    "    all_55000_steam['total_review_bins'] = pd.cut(all_55000_steam['total_review_count'], bins=bins)\n",
    "\n",
    "    # Making \"ownerss\" a categorical ordinal feature\n",
    "    owners_order = [\n",
    "            \"0 .. 20,000\",\n",
    "            \"20,000 .. 50,000\",\n",
    "            \"50,000 .. 100,000\",\n",
    "            \"100,000 .. 200,000\",\n",
    "            \"200,000 .. 500,000\",\n",
    "            \"500,000 .. 1,000,000\",\n",
    "            \"1,000,000 .. 2,000,000\",\n",
    "            \"2,000,000 .. 5,000,000\",\n",
    "            \"5,000,000 .. 10,000,000\",\n",
    "            \"10,000,000 .. 20,000,000\",\n",
    "            \"20,000,000 .. 50,000,000\",\n",
    "            \"50,000,000 .. 100,000,000\",\n",
    "            \"200,000,000 .. 500,000,000\",  \n",
    "        ]\n",
    "    all_55000_steam['owners'] = pd.Categorical(all_55000_steam['owners'], categories=owners_order, ordered=True)\n",
    "\n",
    "    # Converting missed datetime format \"MON DD, YYYY\"\n",
    "    pattern_mon_day_year_comma = r'^[A-Za-z]{3} \\d{1,2}, \\d{4}$'  # Matches \"Mon DD, YYYY\" format\n",
    "    mask_mon_day_year_comma = all_55000_steam['release_date'].str.match(pattern_mon_day_year_comma, na=False)\n",
    "    all_55000_steam.loc[mask_mon_day_year_comma, 'release_date'] = pd.to_datetime(all_55000_steam.loc[mask_mon_day_year_comma, 'release_date'], format='%b %d, %Y')\n",
    "\n",
    "    # Creating a new feature 'release_year' by binning on release_date\n",
    "    all_55000_steam['release_date'] = pd.to_datetime(all_55000_steam['release_date'], format='%Y-%m-%d')\n",
    "    all_55000_steam['release_year'] = all_55000_steam['release_date'].dt.year\n",
    "    all_55000_steam['release_year'] = all_55000_steam['release_year'].astype(\"Int64\")\n",
    "    \n",
    "    return all_55000_steam\n",
    "all_55000_steam = perform_feature_engineering(all_55000_steam)\n",
    "\n",
    "# The additional feature_engineering is specifically for the modeling portion of the analysis\n",
    "def perform_additional_feature_engineering(all_55000_steam) -> pd.DataFrame:\n",
    "    # Getting total developer and publisher experiences\n",
    "    filter_terms = [\"Inc\", \"Inc.\", \"LLC\", \"Ltd\", \"Ltd.\", \"LTD.\"] # The list of developers includes lots of filler stuff that throws off our count. Not all \"LLC\" work on the same games after all.\n",
    "    \n",
    "    all_55000_steam['developers'] = all_55000_steam['developers'].fillna('').astype(str)\n",
    "    all_55000_steam['publishers'] = all_55000_steam['publishers'].fillna('').astype(str)\n",
    "\n",
    "    def filter_entities(entity_list):\n",
    "        return [entity for entity in entity_list if not any(term in entity for term in filter_terms)]\n",
    "\n",
    "    all_55000_steam['developer_list'] = all_55000_steam['developers'].apply(lambda x: [dev.strip() for dev in x.split(',') if dev.strip()])\n",
    "    all_55000_steam['publisher_list'] = all_55000_steam['publishers'].apply(lambda x: [dev.strip() for dev in x.split(',') if dev.strip()])\n",
    "\n",
    "    all_55000_steam['developer_list'] = all_55000_steam['developer_list'].apply(filter_entities)\n",
    "    all_55000_steam['publisher_list'] = all_55000_steam['publisher_list'].apply(filter_entities)\n",
    "\n",
    "    developer_df = all_55000_steam[['app_id', 'developer_list']].explode('developer_list')\n",
    "    publisher_df = all_55000_steam[['app_id', 'publisher_list']].explode('publisher_list')\n",
    "\n",
    "    developer_counts = developer_df.groupby('developer_list')['app_id'].nunique().reset_index()\n",
    "    developer_counts.rename(columns={'app_id': 'developer_experience'}, inplace=True)\n",
    "    publisher_counts = publisher_df.groupby('publisher_list')['app_id'].nunique().reset_index()\n",
    "    publisher_counts.rename(columns={'app_id': 'publisher_experience'}, inplace=True)\n",
    "\n",
    "    developer_df = developer_df.merge(developer_counts, on='developer_list', how='left')\n",
    "    publisher_df = publisher_df.merge(publisher_counts, on='publisher_list', how='left')\n",
    "\n",
    "    dev_exp_avg = developer_df.groupby('app_id')['developer_experience'].sum().reset_index()\n",
    "    all_55000_steam = all_55000_steam.merge(dev_exp_avg, on='app_id', how='left')\n",
    "\n",
    "    pub_exp_avg = publisher_df.groupby('app_id')['publisher_experience'].sum().reset_index()\n",
    "    all_55000_steam = all_55000_steam.merge(pub_exp_avg, on='app_id', how='left')\n",
    "\n",
    "    # Exploding genres using a MultiLabelBinarizer\n",
    "    all_55000_steam['genres'].fillna(\"\", inplace=True)\n",
    "    all_55000_steam['genres_list'] = all_55000_steam['genres'].str.split(', ')\n",
    "\n",
    "    mlb = MultiLabelBinarizer()\n",
    "    genres_encoded = mlb.fit_transform(all_55000_steam['genres_list'])\n",
    "\n",
    "    genres_df = pd.DataFrame(genres_encoded, columns=mlb.classes_)\n",
    "    all_55000_steam = pd.concat([all_55000_steam, genres_df], axis=1)\n",
    "    all_55000_steam = all_55000_steam.drop('genres_list', axis=1)\n",
    "\n",
    "    # Exploding price category using pd.get_dummies\n",
    "    price_category_dummies = pd.get_dummies(all_55000_steam['price_category'], prefix='price_category')\n",
    "    all_55000_steam = pd.concat([all_55000_steam, price_category_dummies], axis=1)\n",
    "\n",
    "    all_55000_steam['languages'].fillna(\"\", inplace=True) # if the game doesnt have it listed, then it is simply left blank.\n",
    "    possible_languages = ['Afrikaans', 'Albanian', 'Arabic', 'Azerbaijani', 'Bangla', 'Basque', 'Belarusian',\n",
    "                        'Bosnian', 'Bulgarian', 'Catalan', 'Croatian', 'Czech', 'Danish', 'Dari', 'Dutch',\n",
    "                        'English', 'Estonian', 'Filipino', 'Finnish', 'French', 'Galician', 'Georgian',\n",
    "                        'German', 'Greek', 'Hebrew', 'Hindi', 'Hungarian', 'Icelandic', 'Indonesian',\n",
    "                        'Irish', 'Italian', 'Japanese', 'Kannada', 'Kazakh', 'Korean', 'Latvian',\n",
    "                        'Lithuanian', 'Luxembourgish', 'Macedonian', 'Malay', 'Maori', 'Marathi',\n",
    "                        'Mongolian', 'Norwegian', 'Persian', 'Polish', 'Portuguese', 'Portuguese - Brazil',\n",
    "                        'Portuguese - Portugal', 'Punjabi (Gurmukhi)', 'Romanian', 'Russian',\n",
    "                        'Serbian', 'Simplified Chinese', 'Slovak', 'Slovenian', 'Spanish - Latin America',\n",
    "                        'Spanish - Spain', 'Swahili', 'Swedish', 'Tamil', 'Telugu', 'Thai',\n",
    "                        'Traditional Chinese', 'Turkish', 'Ukrainian', 'Urdu', 'Uzbek', 'Valencian',\n",
    "                        'Vietnamese', 'Welsh'] # List of languages, gotten by manually cleaning unique values of languages\n",
    "                                                # Yes.. apparently Portuguese has 3 derivatives that are unique\n",
    "                                                # Apparently this is true for a few of these languages. Nice to know!\n",
    "\n",
    "    # The languages feature is turning out to be really... terrible in format\n",
    "    # Tons of random \\r\\n tags, random BBCode and HTML tags, random parenthesis tags, we need to a ton of cleaning to extract and explode this column.\n",
    "    def clean_languages(language_text):\n",
    "        if pd.isnull(language_text) or language_text.strip() == '':\n",
    "            return []\n",
    "        language_text = language_text.replace('\\r\\n', ',').replace(';', ',')# Replace '\\r\\n' and ';' with commas\n",
    "        language_text = re.sub(r'\\[.*?\\]', '', language_text) # Remove BBCode or HTML tags like '[b]*[/b]'\n",
    "        language_text = language_text.replace('(full audio)', '').replace('Not supported', '') # Remove '(full audio)', 'Not supported'\n",
    "        language_text = re.sub(' +', ' ', language_text) # Fix badly spaced language texts\n",
    "        language_text = language_text.strip()\n",
    "\n",
    "        if language_text == '':\n",
    "            return []\n",
    "        language_list = language_text.split(',') # Finally ready to split\n",
    "\n",
    "        language_list = [lang.strip() for lang in language_list if lang.strip()]\n",
    "        detected_languages = []\n",
    "        for lang in language_list:\n",
    "            matched = False\n",
    "            for possible_lang in possible_languages:\n",
    "                if possible_lang.lower() == lang.lower():\n",
    "                    detected_languages.append(possible_lang)\n",
    "                    matched = True\n",
    "                    break\n",
    "            if not matched:\n",
    "                for possible_lang in possible_languages:\n",
    "                    if possible_lang.lower() in lang.lower():\n",
    "                        detected_languages.append(possible_lang)\n",
    "                        break\n",
    "        detected_languages = list(set(detected_languages))\n",
    "        return detected_languages\n",
    "\n",
    "\n",
    "    all_55000_steam['languages_cleaned'] = all_55000_steam['languages'].apply(clean_languages)\n",
    "    mlb = MultiLabelBinarizer()\n",
    "\n",
    "    languages_encoded = mlb.fit_transform(all_55000_steam['languages_cleaned'])\n",
    "    languages_df = pd.DataFrame(languages_encoded, columns=mlb.classes_, index=all_55000_steam.index)\n",
    "\n",
    "    all_55000_steam = pd.concat([all_55000_steam, languages_df], axis=1)\n",
    "    all_55000_steam = all_55000_steam.drop('languages_cleaned', axis=1)\n",
    "    return all_55000_steam"
   ]
  },
  {
   "cell_type": "code",
   "execution_count": null,
   "metadata": {},
   "outputs": [
    {
     "name": "stderr",
     "output_type": "stream",
     "text": [
      "C:\\Users\\jie22\\AppData\\Local\\Temp\\ipykernel_31612\\2178757761.py:4: FutureWarning: A value is trying to be set on a copy of a DataFrame or Series through chained assignment using an inplace method.\n",
      "The behavior will change in pandas 3.0. This inplace method will never work because the intermediate object on which we are setting values always behaves as a copy.\n",
      "\n",
      "For example, when doing 'df[col].method(value, inplace=True)', try using 'df.method({col: value}, inplace=True)' or df[col] = df[col].method(value) instead, to perform the operation inplace on the original object.\n",
      "\n",
      "\n",
      "  all_55000_steam['genres'].fillna(\"\", inplace=True)\n"
     ]
    }
   ],
   "source": []
  },
  {
   "cell_type": "code",
   "execution_count": null,
   "metadata": {},
   "outputs": [
    {
     "name": "stderr",
     "output_type": "stream",
     "text": [
      "C:\\Users\\jie22\\AppData\\Local\\Temp\\ipykernel_31612\\1363526283.py:5: FutureWarning: A value is trying to be set on a copy of a DataFrame or Series through chained assignment using an inplace method.\n",
      "The behavior will change in pandas 3.0. This inplace method will never work because the intermediate object on which we are setting values always behaves as a copy.\n",
      "\n",
      "For example, when doing 'df[col].method(value, inplace=True)', try using 'df.method({col: value}, inplace=True)' or df[col] = df[col].method(value) instead, to perform the operation inplace on the original object.\n",
      "\n",
      "\n",
      "  all_55000_steam['languages'].fillna(\"\", inplace=True)\n"
     ]
    }
   ],
   "source": []
  },
  {
   "cell_type": "code",
   "execution_count": 59,
   "metadata": {},
   "outputs": [
    {
     "data": {
      "text/plain": [
       "array(['app_id', 'name', 'short_description', 'developers', 'publishers',\n",
       "       'genres', 'tags', 'type', 'categories', 'owners',\n",
       "       'positive_reviews', 'negative_reviews', 'price', 'initial_price',\n",
       "       'discount', 'ccu', 'languages', 'platforms', 'release_date',\n",
       "       'required_age', 'website', 'header_image', 'price_category',\n",
       "       'total_review_count', 'positive_ratio', 'total_review_bins',\n",
       "       'release_year', 'developer_list', 'publisher_list',\n",
       "       'developer_experience', 'publisher_experience', '', 'Accounting',\n",
       "       'Action', 'Adventure', 'Animation & Modeling', 'Audio Production',\n",
       "       'Casual', 'Design & Illustration', 'Early Access', 'Education',\n",
       "       'Free To Play', 'Free to Play', 'Game Development', 'Gore',\n",
       "       'Indie', 'Massively Multiplayer', 'Movie', 'Nudity',\n",
       "       'Photo Editing', 'RPG', 'Racing', 'Sexual Content', 'Simulation',\n",
       "       'Software Training', 'Sports', 'Strategy', 'Utilities',\n",
       "       'Video Production', 'Violent', 'Web Publishing',\n",
       "       'price_category_Free to Play', 'price_category_Under $10',\n",
       "       'price_category_$10-50', 'price_category_Over $50', 'Afrikaans',\n",
       "       'Albanian', 'Arabic', 'Azerbaijani', 'Bangla', 'Basque',\n",
       "       'Belarusian', 'Bosnian', 'Bulgarian', 'Catalan', 'Croatian',\n",
       "       'Czech', 'Danish', 'Dari', 'Dutch', 'English', 'Estonian',\n",
       "       'Filipino', 'Finnish', 'French', 'Galician', 'Georgian', 'German',\n",
       "       'Greek', 'Hebrew', 'Hindi', 'Hungarian', 'Icelandic', 'Indonesian',\n",
       "       'Irish', 'Italian', 'Japanese', 'Kannada', 'Kazakh', 'Korean',\n",
       "       'Latvian', 'Lithuanian', 'Luxembourgish', 'Macedonian', 'Malay',\n",
       "       'Maori', 'Marathi', 'Mongolian', 'Norwegian', 'Persian', 'Polish',\n",
       "       'Portuguese', 'Portuguese - Brazil', 'Portuguese - Portugal',\n",
       "       'Punjabi (Gurmukhi)', 'Romanian', 'Russian', 'Serbian',\n",
       "       'Simplified Chinese', 'Slovak', 'Slovenian',\n",
       "       'Spanish - Latin America', 'Spanish - Spain', 'Swahili', 'Swedish',\n",
       "       'Tamil', 'Telugu', 'Thai', 'Traditional Chinese', 'Turkish',\n",
       "       'Ukrainian', 'Urdu', 'Uzbek', 'Valencian', 'Vietnamese', 'Welsh'],\n",
       "      dtype=object)"
      ]
     },
     "execution_count": 59,
     "metadata": {},
     "output_type": "execute_result"
    }
   ],
   "source": [
    "all_55000_steam.columns.values"
   ]
  },
  {
   "cell_type": "code",
   "execution_count": 61,
   "metadata": {},
   "outputs": [
    {
     "data": {
      "image/png": "[encoded data removed]",
      "text/plain": [
       "<Figure size 1200x600 with 1 Axes>"
      ]
     },
     "metadata": {},
     "output_type": "display_data"
    },
    {
     "name": "stdout",
     "output_type": "stream",
     "text": [
      "    app_id  languages_supported\n",
      "0       10                    8\n",
      "1  1000000                    3\n",
      "2  1000010                    9\n",
      "3  1000030                    1\n",
      "4  1000040                    1\n"
     ]
    }
   ],
   "source": [
    "# Sum across the columns of the encoded languages to calculate the total for each language\n",
    "language_popularity = languages_df.sum().sort_values(ascending=False)\n",
    "\n",
    "# Create a histogram for language popularity\n",
    "plt.figure(figsize=(12, 6))\n",
    "sns.barplot(x=language_popularity.index, y=language_popularity.values)\n",
    "plt.xticks(rotation=90)  # Rotate x-axis labels for better readability\n",
    "plt.title('Language Popularity by Number of Games')\n",
    "plt.xlabel('Languages')\n",
    "plt.ylabel('Number of Games')\n",
    "plt.show()\n",
    "\n",
    "# Feature encode a new feature \"languages_supported\"\n",
    "all_55000_steam['languages_supported'] = languages_df.sum(axis=1)\n",
    "\n",
    "# Inspect the new feature\n",
    "print(all_55000_steam[['app_id', 'languages_supported']].head())"
   ]
  },
  {
   "cell_type": "code",
   "execution_count": 63,
   "metadata": {},
   "outputs": [
    {
     "name": "stdout",
     "output_type": "stream",
     "text": [
      "<class 'pandas.core.frame.DataFrame'>\n",
      "RangeIndex: 55691 entries, 0 to 55690\n",
      "Columns: 137 entries, app_id to languages_supported\n",
      "dtypes: Int64(1), bool(4), category(3), datetime64[ns](1), float64(5), int32(101), int64(7), object(15)\n",
      "memory usage: 34.2+ MB\n"
     ]
    },
    {
     "data": {
      "text/plain": [
       "array(['app_id', 'name', 'short_description', 'developers', 'publishers',\n",
       "       'genres', 'tags', 'type', 'categories', 'owners',\n",
       "       'positive_reviews', 'negative_reviews', 'price', 'initial_price',\n",
       "       'discount', 'ccu', 'languages', 'platforms', 'release_date',\n",
       "       'required_age', 'website', 'header_image', 'price_category',\n",
       "       'total_review_count', 'positive_ratio', 'total_review_bins',\n",
       "       'release_year', 'developer_list', 'publisher_list',\n",
       "       'developer_experience', 'publisher_experience', '', 'Accounting',\n",
       "       'Action', 'Adventure', 'Animation & Modeling', 'Audio Production',\n",
       "       'Casual', 'Design & Illustration', 'Early Access', 'Education',\n",
       "       'Free To Play', 'Free to Play', 'Game Development', 'Gore',\n",
       "       'Indie', 'Massively Multiplayer', 'Movie', 'Nudity',\n",
       "       'Photo Editing', 'RPG', 'Racing', 'Sexual Content', 'Simulation',\n",
       "       'Software Training', 'Sports', 'Strategy', 'Utilities',\n",
       "       'Video Production', 'Violent', 'Web Publishing',\n",
       "       'price_category_Free to Play', 'price_category_Under $10',\n",
       "       'price_category_$10-50', 'price_category_Over $50', 'Afrikaans',\n",
       "       'Albanian', 'Arabic', 'Azerbaijani', 'Bangla', 'Basque',\n",
       "       'Belarusian', 'Bosnian', 'Bulgarian', 'Catalan', 'Croatian',\n",
       "       'Czech', 'Danish', 'Dari', 'Dutch', 'English', 'Estonian',\n",
       "       'Filipino', 'Finnish', 'French', 'Galician', 'Georgian', 'German',\n",
       "       'Greek', 'Hebrew', 'Hindi', 'Hungarian', 'Icelandic', 'Indonesian',\n",
       "       'Irish', 'Italian', 'Japanese', 'Kannada', 'Kazakh', 'Korean',\n",
       "       'Latvian', 'Lithuanian', 'Luxembourgish', 'Macedonian', 'Malay',\n",
       "       'Maori', 'Marathi', 'Mongolian', 'Norwegian', 'Persian', 'Polish',\n",
       "       'Portuguese', 'Portuguese - Brazil', 'Portuguese - Portugal',\n",
       "       'Punjabi (Gurmukhi)', 'Romanian', 'Russian', 'Serbian',\n",
       "       'Simplified Chinese', 'Slovak', 'Slovenian',\n",
       "       'Spanish - Latin America', 'Spanish - Spain', 'Swahili', 'Swedish',\n",
       "       'Tamil', 'Telugu', 'Thai', 'Traditional Chinese', 'Turkish',\n",
       "       'Ukrainian', 'Urdu', 'Uzbek', 'Valencian', 'Vietnamese', 'Welsh',\n",
       "       'languages_supported'], dtype=object)"
      ]
     },
     "execution_count": 63,
     "metadata": {},
     "output_type": "execute_result"
    }
   ],
   "source": [
    "all_55000_steam.info()\n",
    "all_55000_steam.columns.values"
   ]
  },
  {
   "cell_type": "code",
   "execution_count": null,
   "metadata": {},
   "outputs": [],
   "source": [
    "columns = list(all_55000_steam.columns)\n",
    "\n",
    "idx_empty_string = columns.index('') # We have an empty string column for genre since some games don't have a genre attached\n",
    "idx_price_category_start = columns.index('price_category_Free to Play')\n",
    "idx_language_start = columns.index('Afrikaans')\n",
    "idx_languages_supported = columns.index('languages_supported')\n",
    "\n",
    "\n",
    "genres_columns = columns[idx_empty_string:idx_price_category_start]\n",
    "price_category_columns = columns[idx_price_category_start:idx_language_start]\n",
    "languages_columns = columns[idx_language_start:idx_languages_supported]\n",
    "\n",
    "# Additional features (confounders)\n",
    "additional_features = ['developer_experience', 'publisher_experience', 'languages_supported']\n",
    "feature_columns = price_category_columns + additional_features + genres_columns + languages_columns\n",
    "# Target\n",
    "target_column = 'total_review_count'"
   ]
  },
  {
   "cell_type": "code",
   "execution_count": null,
   "metadata": {},
   "outputs": [
    {
     "name": "stdout",
     "output_type": "stream",
     "text": [
      "(55691, 110)\n",
      "['price_category_Free to Play' 'price_category_Under $10'\n",
      " 'price_category_$10-50' 'price_category_Over $50' 'developer_experience'\n",
      " 'publisher_experience' 'languages_supported' 'positive_reviews' ''\n",
      " 'Accounting' 'Action' 'Adventure' 'Animation & Modeling'\n",
      " 'Audio Production' 'Casual' 'Design & Illustration' 'Early Access'\n",
      " 'Education' 'Free To Play' 'Free to Play' 'Game Development' 'Gore'\n",
      " 'Indie' 'Massively Multiplayer' 'Movie' 'Nudity' 'Photo Editing' 'RPG'\n",
      " 'Racing' 'Sexual Content' 'Simulation' 'Software Training' 'Sports'\n",
      " 'Strategy' 'Utilities' 'Video Production' 'Violent' 'Web Publishing'\n",
      " 'Afrikaans' 'Albanian' 'Arabic' 'Azerbaijani' 'Bangla' 'Basque'\n",
      " 'Belarusian' 'Bosnian' 'Bulgarian' 'Catalan' 'Croatian' 'Czech' 'Danish'\n",
      " 'Dari' 'Dutch' 'English' 'Estonian' 'Filipino' 'Finnish' 'French'\n",
      " 'Galician' 'Georgian' 'German' 'Greek' 'Hebrew' 'Hindi' 'Hungarian'\n",
      " 'Icelandic' 'Indonesian' 'Irish' 'Italian' 'Japanese' 'Kannada' 'Kazakh'\n",
      " 'Korean' 'Latvian' 'Lithuanian' 'Luxembourgish' 'Macedonian' 'Malay'\n",
      " 'Maori' 'Marathi' 'Mongolian' 'Norwegian' 'Persian' 'Polish' 'Portuguese'\n",
      " 'Portuguese - Brazil' 'Portuguese - Portugal' 'Punjabi (Gurmukhi)'\n",
      " 'Romanian' 'Russian' 'Serbian' 'Simplified Chinese' 'Slovak' 'Slovenian'\n",
      " 'Spanish - Latin America' 'Spanish - Spain' 'Swahili' 'Swedish' 'Tamil'\n",
      " 'Telugu' 'Thai' 'Traditional Chinese' 'Turkish' 'Ukrainian' 'Urdu'\n",
      " 'Uzbek' 'Valencian' 'Vietnamese' 'Welsh' 'total_review_count']\n"
     ]
    }
   ],
   "source": [
    "data = all_55000_steam[feature_columns + [target_column]]\n",
    "print(data.shape)\n",
    "print(data.columns.values)\n",
    "\n",
    "# Separate features and target\n",
    "X = data[feature_columns]\n",
    "y = data[target_column]\n",
    "# X = scaler.fit_transform(X)\n",
    "# y = np.log1p(y)"
   ]
  },
  {
   "cell_type": "code",
   "execution_count": 190,
   "metadata": {},
   "outputs": [
    {
     "name": "stdout",
     "output_type": "stream",
     "text": [
      "Linear Regression MSE: 2502461.5066342084\n",
      "Linear Regression R^2: 0.9963511911154799\n"
     ]
    }
   ],
   "source": [
    "# Split data into training and testing sets\n",
    "from sklearn.metrics import mean_squared_error, r2_score\n",
    "from sklearn.model_selection import train_test_split\n",
    "\n",
    "X_train, X_test, y_train, y_test = train_test_split(X, y, test_size=0.2, random_state=1111)\n",
    "\n",
    "# Initialize the model\n",
    "lr_model = LinearRegression()\n",
    "\n",
    "# Train the model\n",
    "lr_model.fit(X_train, y_train)\n",
    "\n",
    "# Predict on test data\n",
    "y_pred_lr = lr_model.predict(X_test)\n",
    "\n",
    "# Evaluate the model\n",
    "mse_lr = mean_squared_error(y_test, y_pred_lr)\n",
    "r2_lr = r2_score(y_test, y_pred_lr)\n",
    "\n",
    "print(\"Linear Regression MSE:\", mse_lr)\n",
    "print(\"Linear Regression R^2:\", r2_lr)"
   ]
  },
  {
   "cell_type": "code",
   "execution_count": 191,
   "metadata": {},
   "outputs": [
    {
     "name": "stdout",
     "output_type": "stream",
     "text": [
      "Decision Tree MSE: 24330067.132804416\n",
      "Decision Tree R^2: 0.9645246231041733\n"
     ]
    }
   ],
   "source": [
    "# Initialize the model\n",
    "from sklearn.tree import DecisionTreeRegressor\n",
    "\n",
    "\n",
    "dt_model = DecisionTreeRegressor(random_state=42)\n",
    "\n",
    "# Train the model\n",
    "dt_model.fit(X_train, y_train)\n",
    "\n",
    "# Predict on test data\n",
    "y_pred_dt = dt_model.predict(X_test)\n",
    "\n",
    "# Evaluate the model\n",
    "mse_dt = mean_squared_error(y_test, y_pred_dt)\n",
    "r2_dt = r2_score(y_test, y_pred_dt)\n",
    "\n",
    "print(\"Decision Tree MSE:\", mse_dt)\n",
    "print(\"Decision Tree R^2:\", r2_dt)"
   ]
  },
  {
   "cell_type": "code",
   "execution_count": 194,
   "metadata": {},
   "outputs": [
    {
     "name": "stdout",
     "output_type": "stream",
     "text": [
      "Random Forest MSE: 10145158.680015698\n",
      "Random Forest R^2: 0.9852074667169223\n"
     ]
    }
   ],
   "source": [
    "# Initialize the model\n",
    "from sklearn.ensemble import RandomForestRegressor\n",
    "\n",
    "rf_model = RandomForestRegressor(random_state=42)\n",
    "\n",
    "# Train the model\n",
    "rf_model.fit(X_train, y_train)\n",
    "\n",
    "# Predict on test data\n",
    "y_pred_rf = rf_model.predict(X_test)\n",
    "\n",
    "# Evaluate the model\n",
    "mse_rf = mean_squared_error(y_test, y_pred_rf)\n",
    "r2_rf = r2_score(y_test, y_pred_rf)\n",
    "\n",
    "print(\"Random Forest MSE:\", mse_rf)\n",
    "print(\"Random Forest R^2:\", r2_rf)"
   ]
  },
  {
   "cell_type": "code",
   "execution_count": 192,
   "metadata": {},
   "outputs": [
    {
     "name": "stdout",
     "output_type": "stream",
     "text": [
      "XGBoost MSE: 515514556.0494893\n",
      "XGBoost R^2: 0.24833446741104126\n"
     ]
    }
   ],
   "source": [
    "import xgboost as xgb\n",
    "# Initialize the model\n",
    "xgb_model = xgb.XGBRegressor(random_state=42)\n",
    "\n",
    "# Train the model\n",
    "xgb_model.fit(X_train, y_train)\n",
    "\n",
    "# Predict on test data\n",
    "y_pred_xgb = xgb_model.predict(X_test)\n",
    "\n",
    "# Evaluate the model\n",
    "mse_xgb = mean_squared_error(y_test, y_pred_xgb)\n",
    "r2_xgb = r2_score(y_test, y_pred_xgb)\n",
    "\n",
    "print(\"XGBoost MSE:\", mse_xgb)\n",
    "print(\"XGBoost R^2:\", r2_xgb)"
   ]
  },
  {
   "cell_type": "code",
   "execution_count": 195,
   "metadata": {},
   "outputs": [
    {
     "name": "stdout",
     "output_type": "stream",
     "text": [
      "Random Forest Feature Importances:\n",
      "positive_reviews            0.990935\n",
      "Massively Multiplayer       0.001727\n",
      "Arabic                      0.001425\n",
      "languages_supported         0.001249\n",
      "Thai                        0.000532\n",
      "Ukrainian                   0.000482\n",
      "price_category_Under $10    0.000440\n",
      "price_category_$10-50       0.000401\n",
      "Indie                       0.000324\n",
      "publisher_experience        0.000298\n",
      "dtype: float64\n",
      "XGBoost Feature Importances:\n",
      "positive_reviews         0.252262\n",
      "Vietnamese               0.122902\n",
      "Thai                     0.094022\n",
      "Bulgarian                0.083776\n",
      "Finnish                  0.055067\n",
      "Arabic                   0.042343\n",
      "Portuguese - Portugal    0.041674\n",
      "Ukrainian                0.036035\n",
      "Free to Play             0.025766\n",
      "Turkish                  0.022990\n",
      "dtype: float32\n"
     ]
    }
   ],
   "source": [
    "# Random Forest feature importance\n",
    "importances_rf = rf_model.feature_importances_\n",
    "feature_importance_rf = pd.Series(importances_rf, index=feature_columns).sort_values(ascending=False)\n",
    "\n",
    "print(\"Random Forest Feature Importances:\")\n",
    "print(feature_importance_rf.head(10))\n",
    "\n",
    "# XGBoost feature importance\n",
    "importances_xgb = xgb_model.feature_importances_\n",
    "feature_importance_xgb = pd.Series(importances_xgb, index=feature_columns).sort_values(ascending=False)\n",
    "\n",
    "print(\"XGBoost Feature Importances:\")\n",
    "print(feature_importance_xgb.head(10))"
   ]
  },
  {
   "cell_type": "code",
   "execution_count": 196,
   "metadata": {},
   "outputs": [],
   "source": [
    "from sklearn.inspection import permutation_importance\n",
    "\n",
    "# For Random Forest\n",
    "perm_importance_rf = permutation_importance(rf_model, X_test, y_test, n_repeats=10, random_state=42)\n",
    "\n",
    "# For XGBoost\n",
    "perm_importance_xgb = permutation_importance(xgb_model, X_test, y_test, n_repeats=10, random_state=42)"
   ]
  },
  {
   "cell_type": "code",
   "execution_count": 197,
   "metadata": {},
   "outputs": [
    {
     "name": "stdout",
     "output_type": "stream",
     "text": [
      "Random Forest Genre Permutation Importances:\n",
      "                  Feature  Importance_Mean\n",
      "22                  Indie     1.163973e-03\n",
      "19           Free to Play     9.079522e-04\n",
      "23  Massively Multiplayer     8.382185e-04\n",
      "16           Early Access     3.215676e-05\n",
      "14                 Casual     1.934449e-05\n",
      "33               Strategy     7.387879e-06\n",
      "10                 Action     5.150358e-06\n",
      "27                    RPG     4.909111e-06\n",
      "32                 Sports     4.715023e-06\n",
      "36                Violent     3.167550e-08\n",
      "XGBoost Genre Permutation Importances:\n",
      "                  Feature  Importance_Mean\n",
      "14                 Casual     8.421007e-02\n",
      "11              Adventure     2.998387e-02\n",
      "23  Massively Multiplayer     5.481911e-03\n",
      "22                  Indie     4.531497e-03\n",
      "16           Early Access     1.470077e-03\n",
      "30             Simulation     1.312995e-03\n",
      "10                 Action     7.470727e-04\n",
      "28                 Racing     9.912252e-06\n",
      "8                             9.572506e-06\n",
      "12   Animation & Modeling     5.364418e-08\n"
     ]
    }
   ],
   "source": [
    "# Random Forest\n",
    "perm_importance_rf_df = pd.DataFrame({\n",
    "    'Feature': feature_columns,\n",
    "    'Importance_Mean': perm_importance_rf.importances_mean\n",
    "})\n",
    "\n",
    "genre_perm_importance_rf = perm_importance_rf_df[perm_importance_rf_df['Feature'].isin(genres_columns)]\n",
    "genre_perm_importance_rf = genre_perm_importance_rf.sort_values(by='Importance_Mean', ascending=False)\n",
    "\n",
    "print(\"Random Forest Genre Permutation Importances:\")\n",
    "print(genre_perm_importance_rf.head(10))\n",
    "\n",
    "# XGBoost\n",
    "perm_importance_xgb_df = pd.DataFrame({\n",
    "    'Feature': feature_columns,\n",
    "    'Importance_Mean': perm_importance_xgb.importances_mean\n",
    "})\n",
    "\n",
    "genre_perm_importance_xgb = perm_importance_xgb_df[perm_importance_xgb_df['Feature'].isin(genres_columns)]\n",
    "genre_perm_importance_xgb = genre_perm_importance_xgb.sort_values(by='Importance_Mean', ascending=False)\n",
    "\n",
    "print(\"XGBoost Genre Permutation Importances:\")\n",
    "print(genre_perm_importance_xgb.head(10))\n"
   ]
  }
 ],
 "metadata": {
  "kernelspec": {
   "display_name": "Python 3",
   "language": "python",
   "name": "python3"
  },
  "language_info": {
   "codemirror_mode": {
    "name": "ipython",
    "version": 3
   },
   "file_extension": ".py",
   "mimetype": "text/x-python",
   "name": "python",
   "nbconvert_exporter": "python",
   "pygments_lexer": "ipython3",
   "version": "3.12.3"
  }
 },
 "nbformat": 4,
 "nbformat_minor": 2
}
